{
  "nbformat": 4,
  "nbformat_minor": 0,
  "metadata": {
    "colab": {
      "name": "ppo.ipynb",
      "provenance": [],
      "collapsed_sections": []
    },
    "kernelspec": {
      "name": "python3",
      "display_name": "Python 3"
    },
    "language_info": {
      "name": "python"
    },
    "accelerator": "GPU"
  },
  "cells": [
    {
      "cell_type": "code",
      "execution_count": 1,
      "metadata": {
        "id": "PCcnnWV8D3fw",
        "colab": {
          "base_uri": "https://localhost:8080/"
        },
        "outputId": "d2117998-f18e-4612-cbfc-bf312f6c47e3"
      },
      "outputs": [
        {
          "output_type": "stream",
          "name": "stdout",
          "text": [
            "Requirement already satisfied: ale-py==0.7.3 in /usr/local/lib/python3.7/dist-packages (from -r requirements.txt (line 1)) (0.7.3)\n",
            "Requirement already satisfied: AutoROM==0.4.2 in /usr/local/lib/python3.7/dist-packages (from -r requirements.txt (line 2)) (0.4.2)\n",
            "Requirement already satisfied: AutoROM.accept-rom-license==0.4.2 in /usr/local/lib/python3.7/dist-packages (from -r requirements.txt (line 3)) (0.4.2)\n",
            "Requirement already satisfied: certifi==2021.10.8 in /usr/local/lib/python3.7/dist-packages (from -r requirements.txt (line 4)) (2021.10.8)\n",
            "Requirement already satisfied: cffi in /usr/local/lib/python3.7/dist-packages (from -r requirements.txt (line 5)) (1.15.0)\n",
            "Requirement already satisfied: charset-normalizer==2.0.10 in /usr/local/lib/python3.7/dist-packages (from -r requirements.txt (line 6)) (2.0.10)\n",
            "Requirement already satisfied: click==8.0.3 in /usr/local/lib/python3.7/dist-packages (from -r requirements.txt (line 7)) (8.0.3)\n",
            "Requirement already satisfied: cloudpickle==1.6.0 in /usr/local/lib/python3.7/dist-packages (from -r requirements.txt (line 8)) (1.6.0)\n",
            "Requirement already satisfied: colorama in /usr/local/lib/python3.7/dist-packages (from -r requirements.txt (line 9)) (0.4.4)\n",
            "Requirement already satisfied: cycler in /usr/local/lib/python3.7/dist-packages (from -r requirements.txt (line 10)) (0.11.0)\n",
            "Requirement already satisfied: fonttools in /usr/local/lib/python3.7/dist-packages (from -r requirements.txt (line 11)) (4.29.1)\n",
            "Requirement already satisfied: future in /usr/local/lib/python3.7/dist-packages (from -r requirements.txt (line 12)) (0.16.0)\n",
            "Requirement already satisfied: gym==0.21.0 in /usr/local/lib/python3.7/dist-packages (from -r requirements.txt (line 13)) (0.21.0)\n",
            "Requirement already satisfied: idna==3.3 in /usr/local/lib/python3.7/dist-packages (from -r requirements.txt (line 14)) (3.3)\n",
            "Requirement already satisfied: importlib-metadata==4.10.0 in /usr/local/lib/python3.7/dist-packages (from -r requirements.txt (line 15)) (4.10.0)\n",
            "Requirement already satisfied: importlib-resources==5.4.0 in /usr/local/lib/python3.7/dist-packages (from -r requirements.txt (line 16)) (5.4.0)\n",
            "Requirement already satisfied: kiwisolver in /usr/local/lib/python3.7/dist-packages (from -r requirements.txt (line 17)) (1.3.2)\n",
            "Requirement already satisfied: matplotlib in /usr/local/lib/python3.7/dist-packages (from -r requirements.txt (line 18)) (3.2.2)\n",
            "Requirement already satisfied: munkres==1.1.4 in /usr/local/lib/python3.7/dist-packages (from -r requirements.txt (line 19)) (1.1.4)\n",
            "Requirement already satisfied: numpy in /usr/local/lib/python3.7/dist-packages (from -r requirements.txt (line 20)) (1.19.5)\n",
            "Requirement already satisfied: olefile in /usr/local/lib/python3.7/dist-packages (from -r requirements.txt (line 21)) (0.46)\n",
            "Requirement already satisfied: opencv-python==4.5.5.62 in /usr/local/lib/python3.7/dist-packages (from -r requirements.txt (line 22)) (4.5.5.62)\n",
            "Requirement already satisfied: packaging in /usr/local/lib/python3.7/dist-packages (from -r requirements.txt (line 23)) (21.3)\n",
            "Requirement already satisfied: Pillow in /usr/local/lib/python3.7/dist-packages (from -r requirements.txt (line 24)) (7.1.2)\n",
            "Requirement already satisfied: pycparser in /usr/local/lib/python3.7/dist-packages (from -r requirements.txt (line 25)) (2.21)\n",
            "Requirement already satisfied: pyglet in /usr/local/lib/python3.7/dist-packages (from -r requirements.txt (line 26)) (1.5.0)\n",
            "Requirement already satisfied: pyparsing in /usr/local/lib/python3.7/dist-packages (from -r requirements.txt (line 27)) (3.0.7)\n",
            "Requirement already satisfied: python-dateutil in /usr/local/lib/python3.7/dist-packages (from -r requirements.txt (line 28)) (2.8.2)\n",
            "Requirement already satisfied: requests==2.27.1 in /usr/local/lib/python3.7/dist-packages (from -r requirements.txt (line 29)) (2.27.1)\n",
            "Requirement already satisfied: six in /usr/local/lib/python3.7/dist-packages (from -r requirements.txt (line 30)) (1.15.0)\n",
            "Requirement already satisfied: torch in /usr/local/lib/python3.7/dist-packages (from -r requirements.txt (line 31)) (1.10.0+cu111)\n",
            "Requirement already satisfied: torchvision in /usr/local/lib/python3.7/dist-packages (from -r requirements.txt (line 32)) (0.11.1+cu111)\n",
            "Requirement already satisfied: tornado in /usr/local/lib/python3.7/dist-packages (from -r requirements.txt (line 33)) (5.1.1)\n",
            "Requirement already satisfied: tqdm in /usr/local/lib/python3.7/dist-packages (from -r requirements.txt (line 34)) (4.62.3)\n",
            "Requirement already satisfied: typing_extensions in /usr/local/lib/python3.7/dist-packages (from -r requirements.txt (line 35)) (3.10.0.2)\n",
            "Requirement already satisfied: unicodedata2 in /usr/local/lib/python3.7/dist-packages (from -r requirements.txt (line 36)) (14.0.0)\n",
            "Requirement already satisfied: urllib3==1.26.8 in /usr/local/lib/python3.7/dist-packages (from -r requirements.txt (line 37)) (1.26.8)\n",
            "Requirement already satisfied: zipp==3.7.0 in /usr/local/lib/python3.7/dist-packages (from -r requirements.txt (line 38)) (3.7.0)\n"
          ]
        }
      ],
      "source": [
        "!pip install -r requirements.txt"
      ]
    },
    {
      "cell_type": "code",
      "source": [
        "import gym\n",
        "import torch\n",
        "import torch.nn as nn\n",
        "import torch.nn.functional as F\n",
        "import numpy as np\n",
        "import matplotlib.pyplot as plt\n",
        "from torch.distributions import Categorical\n",
        "from torch.optim import Adam\n",
        "from collections import deque  # use deque to store last few frames"
      ],
      "metadata": {
        "id": "mEpRCMKEFS4s",
        "colab": {
          "base_uri": "https://localhost:8080/"
        },
        "outputId": "a8e1515c-509d-4144-8408-9b44e6551329"
      },
      "execution_count": 2,
      "outputs": [
        {
          "output_type": "stream",
          "name": "stderr",
          "text": [
            "/usr/local/lib/python3.7/dist-packages/ale_py/roms/utils.py:90: DeprecationWarning: SelectableGroups dict interface is deprecated. Use select.\n",
            "  for external in metadata.entry_points().get(self.group, []):\n"
          ]
        }
      ]
    },
    {
      "cell_type": "code",
      "source": [
        "env = gym.make(\"CartPole-v0\")\n",
        "actions = [0, 1]\n",
        "# create a sequence using last l frames\n",
        "# pre-process sequence into a tensor for feed-forward\n",
        "# for CartPole-v0, single frame has enough info, so l = 1\n",
        "l = 1\n",
        "lr = 5e-4  # learning rate\n",
        "gamma = 0.9  # discount factor\n",
        "eps = 0.1  # epsilon in clip function\n",
        "beta = 0.001  # coeff for entropy loss\n",
        "iterations = 500\n",
        "N = 20  # rollouts per iteration\n",
        "epochs = 5  # epochs per iteration\n",
        "normalize = True  # normalize returns b/w 0 and 1\n",
        "mod = 20  # print and save model once every mod iterations"
      ],
      "metadata": {
        "id": "mARZPLwtF-hM"
      },
      "execution_count": 3,
      "outputs": []
    },
    {
      "cell_type": "code",
      "source": [
        "# Actor is the policy network\n",
        "class Actor(nn.Module):\n",
        "  def __init__(self):\n",
        "    super(Actor, self).__init__()\n",
        "    self.fc = nn.Linear(4, 128)\n",
        "    self.out = nn.Linear(128, len(actions))\n",
        "\n",
        "  def forward(self, x):\n",
        "    x = F.relu(self.fc(x))\n",
        "    x = F.softmax(self.out(x), -1)\n",
        "    return x\n",
        "\n",
        "\n",
        "# Critic is the value network\n",
        "class Critic(nn.Module):\n",
        "  def __init__(self):\n",
        "    super(Critic, self).__init__()\n",
        "    self.fc = nn.Linear(4, 128)\n",
        "    self.out = nn.Linear(128, len(actions))\n",
        "\n",
        "  def forward(self, x):\n",
        "    x = F.relu(self.fc(x))\n",
        "    x = self.out(x)\n",
        "    return x\n",
        "\n",
        "\n",
        "# pre-process frame sequence\n",
        "def phi(seq):\n",
        "  return np.array(seq)"
      ],
      "metadata": {
        "id": "X2aCIeSgGpAP"
      },
      "execution_count": 4,
      "outputs": []
    },
    {
      "cell_type": "code",
      "source": [
        "device = torch.device(\"cuda\")\n",
        "\n",
        "# initialize neural nets\n",
        "pi = Actor().to(device)\n",
        "pi_old = Actor().to(device)\n",
        "Q = Critic().to(device)\n",
        "\n",
        "# use single optimizer for both networks\n",
        "opt = Adam(list(pi.parameters()) + list(Q.parameters()), lr)"
      ],
      "metadata": {
        "id": "B_zYah4ldRhD"
      },
      "execution_count": 5,
      "outputs": []
    },
    {
      "cell_type": "markdown",
      "source": [
        "![](https://miro.medium.com/max/1838/0*9KP9fMyqHfQs2tD3)"
      ],
      "metadata": {
        "id": "BDhmhK7yoTUw"
      }
    },
    {
      "cell_type": "code",
      "source": [
        "def sample(logits):\n",
        "  # pick action from prob distribution logits\n",
        "  return logits.sample().item()\n",
        "\n",
        "\n",
        "# rs is array of rewards\n",
        "# need array of returns Gs\n",
        "# where Gs[t] is return after timestep t\n",
        "def accumulate(rs):\n",
        "  Gs = np.array([r for r in rs])\n",
        "  for t in range(len(Gs) - 2, -1, -1):\n",
        "    Gs[t] += gamma * Gs[t + 1]\n",
        "  return torch.tensor(Gs, dtype=torch.float32, device=device)\n",
        "\n",
        "\n",
        "def compute_loss(S, a, Gs, oldps):\n",
        "  if normalize:\n",
        "    Gs = (Gs - Gs.mean()) / (Gs.std() + 1e-5)  # normalize returns if needed\n",
        "  # get Q(s, a) values\n",
        "  Qs = torch.gather(Q(S), 1, a).squeeze()\n",
        "  # get probabilities pi(a|s)\n",
        "  ps = torch.gather(pi(S), 1, a).squeeze()\n",
        "  ratio = ps / oldps  # compute prob ratio pi(a|s) / pi_old(a|s)\n",
        "  A = (Qs - Gs).detach()  # compute advantage\n",
        "  obj = ratio * A  # compute r(theta) * A (as per pseudocode)\n",
        "  # compute clipped objective\n",
        "  obj_clip = torch.clip(ratio, 1 - eps, 1 + eps) * A\n",
        "  # compute surrogate objective = mean of minimum of above two objectives\n",
        "  # -ve because we're doing gradient ascent\n",
        "  surr_obj = -torch.minimum(obj, obj_clip).mean()\n",
        "  # compute the entropy loss - acts as regularizer for policy network\n",
        "  entropy_loss = beta * (-ps * torch.log(ps)).mean()\n",
        "  actor_loss = surr_obj - entropy_loss  # loss for policy network\n",
        "  critic_loss = F.mse_loss(Qs, Gs)  # loss for critic network\n",
        "  return actor_loss + critic_loss  # loss for both networks\n",
        "\n",
        "\n",
        "# avg loss over N episodes (or rollouts)\n",
        "def avg_loss(rollouts):\n",
        "  loss = 0\n",
        "  for (S, a, Gs, oldps, _) in rollouts:\n",
        "    loss += compute_loss(S, a, Gs, oldps) / N\n",
        "  return loss\n",
        "\n",
        "\n",
        "# avg return over N episodes\n",
        "def avg_return(rollouts):\n",
        "  return sum(G for (_, _, _, _, G) in rollouts) / N\n",
        " \n",
        "\n",
        "def rollout():\n",
        "  # states, action ids, rewards, and probabilities\n",
        "  S, a, rs, oldps = [], [], [], []\n",
        "  G = 0  # store return\n",
        "  done = False\n",
        "  s = env.reset()\n",
        "  # create intial sequence of last l frames\n",
        "  seq = deque([np.zeros_like(s)] * (l - 1) + [s], maxlen=l)\n",
        "  with torch.no_grad():\n",
        "    while not done:\n",
        "      # pre-process last l frames, i.e., sequence seq\n",
        "      s = torch.tensor(phi(seq), dtype=torch.float32, device=device)\n",
        "      S.append(s.squeeze(0))  # store pre-processed state\n",
        "      p = pi_old(s).squeeze()  # compute probability distribution\n",
        "      i = sample(Categorical(p))  # pick action\n",
        "      a.append([i])  # store action\n",
        "      oldps.append(p[i])  # store probability of taking action\n",
        "      s, r, done, _ = env.step(actions[i])  # take action\n",
        "      G += r\n",
        "      rs.append(r)  # store reward\n",
        "      # append new state to sequence so it contains last l frames\n",
        "      # sequence contained states [s_{t - l} ... s_t]\n",
        "      # now contains [s_{t - l + 1} ... s_{t + 1}]\n",
        "      seq.append(s)\n",
        "  Gs = accumulate(rs)  # compute returns\n",
        "  # convert list of states and probs to tensors for training\n",
        "  S, oldps = torch.stack(S), torch.stack(oldps)\n",
        "  # need to pick pi(a|s) during training, need 'a' as tensor to use torch.gather\n",
        "  a = torch.tensor(np.array(a), device=device)\n",
        "  return S, a, Gs, oldps, G\n",
        "\n",
        "\n",
        "def train():\n",
        "  returns = []\n",
        "  for n in range(1, iterations + 1):\n",
        "    # pi_old := pi\n",
        "    pi_old.load_state_dict(pi.state_dict())\n",
        "    # generate N rollouts\n",
        "    rollouts = [rollout() for _ in range(N)]\n",
        "    # store avg return of N rollouts\n",
        "    returns.append(avg_return(rollouts))\n",
        "    # train pi\n",
        "    for _ in range(epochs):\n",
        "      opt.zero_grad()\n",
        "      loss = avg_loss(rollouts)\n",
        "      loss.backward()\n",
        "      opt.step()\n",
        "    # log results once every mod iterations\n",
        "    if n % mod == 0:\n",
        "      print(\"episode: {}\\tavg return: {:.2f}\".format(n * N, returns[-1]))\n",
        "  return returns"
      ],
      "metadata": {
        "id": "Tz2OQv9wIAGV"
      },
      "execution_count": 6,
      "outputs": []
    },
    {
      "cell_type": "code",
      "source": [
        "returns = train()\n",
        "torch.save(pi_old.state_dict(), f\"pi.pt\")"
      ],
      "metadata": {
        "colab": {
          "base_uri": "https://localhost:8080/"
        },
        "id": "Bteu70Z_5881",
        "outputId": "2a7d3305-75ae-42eb-bf81-331b94787779"
      },
      "execution_count": 7,
      "outputs": [
        {
          "output_type": "stream",
          "name": "stdout",
          "text": [
            "episode: 400\tavg return: 23.85\n",
            "episode: 800\tavg return: 21.90\n",
            "episode: 1200\tavg return: 19.40\n",
            "episode: 1600\tavg return: 17.90\n",
            "episode: 2000\tavg return: 25.70\n",
            "episode: 2400\tavg return: 31.45\n",
            "episode: 2800\tavg return: 35.50\n",
            "episode: 3200\tavg return: 44.85\n",
            "episode: 3600\tavg return: 49.25\n",
            "episode: 4000\tavg return: 47.45\n",
            "episode: 4400\tavg return: 46.70\n",
            "episode: 4800\tavg return: 53.45\n",
            "episode: 5200\tavg return: 49.65\n",
            "episode: 5600\tavg return: 41.55\n",
            "episode: 6000\tavg return: 40.65\n",
            "episode: 6400\tavg return: 41.75\n",
            "episode: 6800\tavg return: 44.50\n",
            "episode: 7200\tavg return: 52.00\n",
            "episode: 7600\tavg return: 34.20\n",
            "episode: 8000\tavg return: 38.65\n",
            "episode: 8400\tavg return: 41.65\n",
            "episode: 8800\tavg return: 36.40\n",
            "episode: 9200\tavg return: 33.65\n",
            "episode: 9600\tavg return: 41.80\n",
            "episode: 10000\tavg return: 40.70\n"
          ]
        }
      ]
    },
    {
      "cell_type": "code",
      "source": [
        "fig = plt.figure(figsize=(8, 8))\n",
        "x = np.arange(1, iterations + 1) * N\n",
        "plt.xlabel(\"episode\")\n",
        "plt.ylabel(\"return\")\n",
        "plt.plot(x, returns)\n",
        "plt.savefig(\"returns.png\")"
      ],
      "metadata": {
        "colab": {
          "base_uri": "https://localhost:8080/",
          "height": 497
        },
        "id": "ki20SdC8gyFZ",
        "outputId": "9f943e8b-b48c-43c4-b9d8-998f544e0521"
      },
      "execution_count": 8,
      "outputs": [
        {
          "output_type": "display_data",
          "data": {
            "image/png": "[encoded data removed]",
            "text/plain": [
              "<Figure size 576x576 with 1 Axes>"
            ]
          },
          "metadata": {
            "needs_background": "light"
          }
        }
      ]
    }
  ]
}